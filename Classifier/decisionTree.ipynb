{
  "cells": [
    {
      "cell_type": "code",
      "execution_count": null,
      "id": "71b5d9da",
      "metadata": {
        "id": "71b5d9da"
      },
      "outputs": [],
      "source": [
        "!pip install sklearn"
      ]
    },
    {
      "cell_type": "code",
      "source": [
        "from google.colab import drive\n",
        "drive.mount('/content/drive')"
      ],
      "metadata": {
        "colab": {
          "base_uri": "https://localhost:8080/"
        },
        "id": "rBp1Lm2e4zT6",
        "outputId": "c38aeeec-64f0-4ce7-a6e0-3e0a992d1ffe"
      },
      "id": "rBp1Lm2e4zT6",
      "execution_count": null,
      "outputs": [
        {
          "output_type": "stream",
          "name": "stdout",
          "text": [
            "Mounted at /content/drive\n"
          ]
        }
      ]
    },
    {
      "cell_type": "code",
      "source": [
        "cd drive/MyDrive/ReportCC++/hybrid"
      ],
      "metadata": {
        "colab": {
          "base_uri": "https://localhost:8080/"
        },
        "id": "RdjAcEsA48H0",
        "outputId": "344ee93e-e901-4f24-8fbd-40325a8103d9"
      },
      "id": "RdjAcEsA48H0",
      "execution_count": null,
      "outputs": [
        {
          "output_type": "stream",
          "name": "stdout",
          "text": [
            "[Errno 2] No such file or directory: 'drive/MyDrive/ReportCC++/hybrid'\n",
            "/content/drive/MyDrive/ReportCC++\n"
          ]
        }
      ]
    },
    {
      "cell_type": "code",
      "execution_count": null,
      "id": "3bcf553f",
      "metadata": {
        "id": "3bcf553f"
      },
      "outputs": [],
      "source": [
        "# Run this program on your local python\n",
        "# interpreter, provided you have installed\n",
        "# the required libraries.\n",
        "\n",
        "# Importing the required packages\n",
        "import numpy as np\n",
        "import pandas as pd\n",
        "from sklearn.metrics import confusion_matrix\n",
        "from sklearn.model_selection import train_test_split\n",
        "from sklearn.tree import DecisionTreeClassifier\n",
        "from sklearn.metrics import accuracy_score\n",
        "from sklearn.metrics import classification_report"
      ]
    },
    {
      "cell_type": "code",
      "source": [
        "# Here we have to provide the file based on dimension"
      ],
      "metadata": {
        "id": "bBfTwV-00iTD"
      },
      "id": "bBfTwV-00iTD",
      "execution_count": null,
      "outputs": []
    },
    {
      "cell_type": "code",
      "execution_count": null,
      "id": "569a8b32",
      "metadata": {
        "id": "569a8b32"
      },
      "outputs": [],
      "source": [
        "# Function importing Dataset\n",
        "def importdata():\n",
        "    balance_data = pd.read_excel('code2vecSBERTCodeBERTN=3.xlsx', header = None)\n",
        "\n",
        "    # Printing the dataset shape\n",
        "    print (\"Dataset Length: \", len(balance_data))\n",
        "    print (\"Dataset Shape: \", balance_data.shape)\n",
        "\n",
        "    # Printing the dataset obseravtions\n",
        "    print (\"Dataset: \",balance_data.head())\n",
        "    return balance_data"
      ]
    },
    {
      "cell_type": "code",
      "execution_count": null,
      "id": "5ade5b46",
      "metadata": {
        "scrolled": true,
        "colab": {
          "base_uri": "https://localhost:8080/",
          "height": 562
        },
        "id": "5ade5b46",
        "outputId": "f198081a-c66d-4a43-f6fc-11710732c78d"
      },
      "outputs": [
        {
          "output_type": "stream",
          "name": "stdout",
          "text": [
            "Dataset Length:  27247\n",
            "Dataset Shape:  (27247, 5)\n",
            "Dataset:        0          1          2          3          4\n",
            "0  Good   3.439419   7.504001   5.980480   7.977052\n",
            "1  Good   3.759454   7.819591   3.998524   9.985165\n",
            "2  Good   0.000000  10.194413  10.942562   2.983263\n",
            "3  Good  10.972936   0.000000  13.956610   0.000000\n",
            "4   Bad   5.392447   4.156319   1.986761  11.924214\n"
          ]
        },
        {
          "output_type": "execute_result",
          "data": {
            "text/plain": [
              "          0          1          2          3          4\n",
              "0      Good   3.439419   7.504001   5.980480   7.977052\n",
              "1      Good   3.759454   7.819591   3.998524   9.985165\n",
              "2      Good   0.000000  10.194413  10.942562   2.983263\n",
              "3      Good  10.972936   0.000000  13.956610   0.000000\n",
              "4       Bad   5.392447   4.156319   1.986761  11.924214\n",
              "...     ...        ...        ...        ...        ...\n",
              "27242  Good   6.992727   3.467584  13.972192   0.000000\n",
              "27243  Good   8.461073   2.767774  13.960791   0.000000\n",
              "27244  Good   0.000000  11.435358   0.000000  13.974475\n",
              "27245  Good   7.522536   3.874719  13.965949   0.000000\n",
              "27246  Good   7.898964   2.475238  13.978800   0.000000\n",
              "\n",
              "[27247 rows x 5 columns]"
            ],
            "text/html": [
              "\n",
              "  <div id=\"df-65bb5d08-4f21-40dd-816a-b3ba024937af\">\n",
              "    <div class=\"colab-df-container\">\n",
              "      <div>\n",
              "<style scoped>\n",
              "    .dataframe tbody tr th:only-of-type {\n",
              "        vertical-align: middle;\n",
              "    }\n",
              "\n",
              "    .dataframe tbody tr th {\n",
              "        vertical-align: top;\n",
              "    }\n",
              "\n",
              "    .dataframe thead th {\n",
              "        text-align: right;\n",
              "    }\n",
              "</style>\n",
              "<table border=\"1\" class=\"dataframe\">\n",
              "  <thead>\n",
              "    <tr style=\"text-align: right;\">\n",
              "      <th></th>\n",
              "      <th>0</th>\n",
              "      <th>1</th>\n",
              "      <th>2</th>\n",
              "      <th>3</th>\n",
              "      <th>4</th>\n",
              "    </tr>\n",
              "  </thead>\n",
              "  <tbody>\n",
              "    <tr>\n",
              "      <th>0</th>\n",
              "      <td>Good</td>\n",
              "      <td>3.439419</td>\n",
              "      <td>7.504001</td>\n",
              "      <td>5.980480</td>\n",
              "      <td>7.977052</td>\n",
              "    </tr>\n",
              "    <tr>\n",
              "      <th>1</th>\n",
              "      <td>Good</td>\n",
              "      <td>3.759454</td>\n",
              "      <td>7.819591</td>\n",
              "      <td>3.998524</td>\n",
              "      <td>9.985165</td>\n",
              "    </tr>\n",
              "    <tr>\n",
              "      <th>2</th>\n",
              "      <td>Good</td>\n",
              "      <td>0.000000</td>\n",
              "      <td>10.194413</td>\n",
              "      <td>10.942562</td>\n",
              "      <td>2.983263</td>\n",
              "    </tr>\n",
              "    <tr>\n",
              "      <th>3</th>\n",
              "      <td>Good</td>\n",
              "      <td>10.972936</td>\n",
              "      <td>0.000000</td>\n",
              "      <td>13.956610</td>\n",
              "      <td>0.000000</td>\n",
              "    </tr>\n",
              "    <tr>\n",
              "      <th>4</th>\n",
              "      <td>Bad</td>\n",
              "      <td>5.392447</td>\n",
              "      <td>4.156319</td>\n",
              "      <td>1.986761</td>\n",
              "      <td>11.924214</td>\n",
              "    </tr>\n",
              "    <tr>\n",
              "      <th>...</th>\n",
              "      <td>...</td>\n",
              "      <td>...</td>\n",
              "      <td>...</td>\n",
              "      <td>...</td>\n",
              "      <td>...</td>\n",
              "    </tr>\n",
              "    <tr>\n",
              "      <th>27242</th>\n",
              "      <td>Good</td>\n",
              "      <td>6.992727</td>\n",
              "      <td>3.467584</td>\n",
              "      <td>13.972192</td>\n",
              "      <td>0.000000</td>\n",
              "    </tr>\n",
              "    <tr>\n",
              "      <th>27243</th>\n",
              "      <td>Good</td>\n",
              "      <td>8.461073</td>\n",
              "      <td>2.767774</td>\n",
              "      <td>13.960791</td>\n",
              "      <td>0.000000</td>\n",
              "    </tr>\n",
              "    <tr>\n",
              "      <th>27244</th>\n",
              "      <td>Good</td>\n",
              "      <td>0.000000</td>\n",
              "      <td>11.435358</td>\n",
              "      <td>0.000000</td>\n",
              "      <td>13.974475</td>\n",
              "    </tr>\n",
              "    <tr>\n",
              "      <th>27245</th>\n",
              "      <td>Good</td>\n",
              "      <td>7.522536</td>\n",
              "      <td>3.874719</td>\n",
              "      <td>13.965949</td>\n",
              "      <td>0.000000</td>\n",
              "    </tr>\n",
              "    <tr>\n",
              "      <th>27246</th>\n",
              "      <td>Good</td>\n",
              "      <td>7.898964</td>\n",
              "      <td>2.475238</td>\n",
              "      <td>13.978800</td>\n",
              "      <td>0.000000</td>\n",
              "    </tr>\n",
              "  </tbody>\n",
              "</table>\n",
              "<p>27247 rows × 5 columns</p>\n",
              "</div>\n",
              "      <button class=\"colab-df-convert\" onclick=\"convertToInteractive('df-65bb5d08-4f21-40dd-816a-b3ba024937af')\"\n",
              "              title=\"Convert this dataframe to an interactive table.\"\n",
              "              style=\"display:none;\">\n",
              "        \n",
              "  <svg xmlns=\"http://www.w3.org/2000/svg\" height=\"24px\"viewBox=\"0 0 24 24\"\n",
              "       width=\"24px\">\n",
              "    <path d=\"M0 0h24v24H0V0z\" fill=\"none\"/>\n",
              "    <path d=\"M18.56 5.44l.94 2.06.94-2.06 2.06-.94-2.06-.94-.94-2.06-.94 2.06-2.06.94zm-11 1L8.5 8.5l.94-2.06 2.06-.94-2.06-.94L8.5 2.5l-.94 2.06-2.06.94zm10 10l.94 2.06.94-2.06 2.06-.94-2.06-.94-.94-2.06-.94 2.06-2.06.94z\"/><path d=\"M17.41 7.96l-1.37-1.37c-.4-.4-.92-.59-1.43-.59-.52 0-1.04.2-1.43.59L10.3 9.45l-7.72 7.72c-.78.78-.78 2.05 0 2.83L4 21.41c.39.39.9.59 1.41.59.51 0 1.02-.2 1.41-.59l7.78-7.78 2.81-2.81c.8-.78.8-2.07 0-2.86zM5.41 20L4 18.59l7.72-7.72 1.47 1.35L5.41 20z\"/>\n",
              "  </svg>\n",
              "      </button>\n",
              "      \n",
              "  <style>\n",
              "    .colab-df-container {\n",
              "      display:flex;\n",
              "      flex-wrap:wrap;\n",
              "      gap: 12px;\n",
              "    }\n",
              "\n",
              "    .colab-df-convert {\n",
              "      background-color: #E8F0FE;\n",
              "      border: none;\n",
              "      border-radius: 50%;\n",
              "      cursor: pointer;\n",
              "      display: none;\n",
              "      fill: #1967D2;\n",
              "      height: 32px;\n",
              "      padding: 0 0 0 0;\n",
              "      width: 32px;\n",
              "    }\n",
              "\n",
              "    .colab-df-convert:hover {\n",
              "      background-color: #E2EBFA;\n",
              "      box-shadow: 0px 1px 2px rgba(60, 64, 67, 0.3), 0px 1px 3px 1px rgba(60, 64, 67, 0.15);\n",
              "      fill: #174EA6;\n",
              "    }\n",
              "\n",
              "    [theme=dark] .colab-df-convert {\n",
              "      background-color: #3B4455;\n",
              "      fill: #D2E3FC;\n",
              "    }\n",
              "\n",
              "    [theme=dark] .colab-df-convert:hover {\n",
              "      background-color: #434B5C;\n",
              "      box-shadow: 0px 1px 3px 1px rgba(0, 0, 0, 0.15);\n",
              "      filter: drop-shadow(0px 1px 2px rgba(0, 0, 0, 0.3));\n",
              "      fill: #FFFFFF;\n",
              "    }\n",
              "  </style>\n",
              "\n",
              "      <script>\n",
              "        const buttonEl =\n",
              "          document.querySelector('#df-65bb5d08-4f21-40dd-816a-b3ba024937af button.colab-df-convert');\n",
              "        buttonEl.style.display =\n",
              "          google.colab.kernel.accessAllowed ? 'block' : 'none';\n",
              "\n",
              "        async function convertToInteractive(key) {\n",
              "          const element = document.querySelector('#df-65bb5d08-4f21-40dd-816a-b3ba024937af');\n",
              "          const dataTable =\n",
              "            await google.colab.kernel.invokeFunction('convertToInteractive',\n",
              "                                                     [key], {});\n",
              "          if (!dataTable) return;\n",
              "\n",
              "          const docLinkHtml = 'Like what you see? Visit the ' +\n",
              "            '<a target=\"_blank\" href=https://colab.research.google.com/notebooks/data_table.ipynb>data table notebook</a>'\n",
              "            + ' to learn more about interactive tables.';\n",
              "          element.innerHTML = '';\n",
              "          dataTable['output_type'] = 'display_data';\n",
              "          await google.colab.output.renderOutput(dataTable, element);\n",
              "          const docLink = document.createElement('div');\n",
              "          docLink.innerHTML = docLinkHtml;\n",
              "          element.appendChild(docLink);\n",
              "        }\n",
              "      </script>\n",
              "    </div>\n",
              "  </div>\n",
              "  "
            ]
          },
          "metadata": {},
          "execution_count": 44
        }
      ],
      "source": [
        "importdata()"
      ]
    },
    {
      "cell_type": "code",
      "execution_count": null,
      "id": "8c90d022",
      "metadata": {
        "id": "8c90d022"
      },
      "outputs": [],
      "source": [
        "# Function to split the dataset\n",
        "def splitdataset(balance_data):\n",
        "\n",
        "    # Separating the target variable\n",
        "    X = balance_data.values[:, 1:7]\n",
        "    Y = balance_data.values[:, 0]\n",
        "\n",
        "    # Splitting the dataset into train and test\n",
        "    X_train, X_test, y_train, y_test = train_test_split(\n",
        "    X, Y, test_size = 0.1, random_state = 100)\n",
        "\n",
        "    return X, Y, X_train, X_test, y_train, y_test"
      ]
    },
    {
      "cell_type": "code",
      "execution_count": null,
      "id": "b2895470",
      "metadata": {
        "id": "b2895470"
      },
      "outputs": [],
      "source": [
        "# Function to perform training with giniIndex.\n",
        "def train_using_gini(X_train, X_test, y_train):\n",
        "\n",
        "    # Creating the classifier object\n",
        "    clf_gini = DecisionTreeClassifier(criterion = \"gini\",\n",
        "            random_state = 100,max_depth=3, min_samples_leaf=5)\n",
        "\n",
        "    # Performing training\n",
        "    clf_gini.fit(X_train, y_train)\n",
        "    return clf_gini"
      ]
    },
    {
      "cell_type": "code",
      "execution_count": null,
      "id": "a4355d2c",
      "metadata": {
        "id": "a4355d2c"
      },
      "outputs": [],
      "source": [
        "# Function to perform training with entropy.\n",
        "def tarin_using_entropy(X_train, X_test, y_train):\n",
        "\n",
        "    # Decision tree with entropy\n",
        "    clf_entropy = DecisionTreeClassifier(\n",
        "            criterion = \"entropy\", random_state = 100,\n",
        "            max_depth = 3, min_samples_leaf = 5)\n",
        "\n",
        "    # Performing training\n",
        "    clf_entropy.fit(X_train, y_train)\n",
        "    return clf_entropy\n"
      ]
    },
    {
      "cell_type": "code",
      "execution_count": null,
      "id": "83e83a61",
      "metadata": {
        "id": "83e83a61"
      },
      "outputs": [],
      "source": [
        "# Function to make predictions\n",
        "def prediction(X_test, clf_object):\n",
        "\n",
        "    # Predicton on test with giniIndex\n",
        "    y_pred = clf_object.predict(X_test)\n",
        "    print(\"Predicted values:\")\n",
        "    print(y_pred)\n",
        "    return y_pred"
      ]
    },
    {
      "cell_type": "code",
      "execution_count": null,
      "id": "8d6f997b",
      "metadata": {
        "id": "8d6f997b"
      },
      "outputs": [],
      "source": [
        "# Function to calculate accuracy\n",
        "def cal_accuracy(y_test, y_pred):\n",
        "\n",
        "    print(\"Confusion Matrix: \",\n",
        "        confusion_matrix(y_test, y_pred))\n",
        "\n",
        "    print (\"Accuracy : \",\n",
        "    accuracy_score(y_test,y_pred)*100)\n",
        "\n",
        "    print(\"Report : \",classification_report(y_test, y_pred))"
      ]
    },
    {
      "cell_type": "code",
      "execution_count": null,
      "id": "8b5b2322",
      "metadata": {
        "id": "8b5b2322"
      },
      "outputs": [],
      "source": [
        "# Driver code\n",
        "def main():\n",
        "\n",
        "    # Building Phase\n",
        "    data = importdata()\n",
        "    X, Y, X_train, X_test, y_train, y_test = splitdataset(data)\n",
        "\n",
        "    print(X_test)\n",
        "    clf_gini = train_using_gini(X_train, X_test, y_train)\n",
        "    clf_entropy = tarin_using_entropy(X_train, X_test, y_train)\n",
        "\n",
        "    # Operational Phase\n",
        "    print(\"Results Using Gini Index:\")\n",
        "\n",
        "    # Prediction using gini\n",
        "    y_pred_gini = prediction(X_test, clf_gini)\n",
        "    cal_accuracy(y_test, y_pred_gini)\n",
        "\n",
        "    print(\"Results Using Entropy:\")\n",
        "    # Prediction using entropy\n",
        "    y_pred_entropy = prediction(X_test, clf_entropy)\n",
        "    cal_accuracy(y_test, y_pred_entropy)\n",
        "\n",
        "\n",
        "# Calling main function\n",
        "if __name__==\"__main__\":\n",
        "    main()\n",
        "\n"
      ]
    }
  ],
  "metadata": {
    "kernelspec": {
      "display_name": "Python 3 (ipykernel)",
      "language": "python",
      "name": "python3"
    },
    "language_info": {
      "codemirror_mode": {
        "name": "ipython",
        "version": 3
      },
      "file_extension": ".py",
      "mimetype": "text/x-python",
      "name": "python",
      "nbconvert_exporter": "python",
      "pygments_lexer": "ipython3",
      "version": "3.7.5"
    },
    "colab": {
      "provenance": []
    }
  },
  "nbformat": 4,
  "nbformat_minor": 5
}